{
 "cells": [
  {
   "cell_type": "markdown",
   "id": "a711a39f",
   "metadata": {
    "papermill": {
     "duration": 0.010111,
     "end_time": "2022-10-24T04:23:54.631970",
     "exception": false,
     "start_time": "2022-10-24T04:23:54.621859",
     "status": "completed"
    },
    "tags": []
   },
   "source": [
    "# Preface\n",
    "Maintenance of equipment is a critical activity for any business involving machines. Predictive maintenance is the method of scheduling maintenance based on the prediction about the failure time of any equipment. The machine learning models is constructed based on the datasets from turbo fan engine data from the Prognostics Data Repository of NASA. Using a training set, a model was constructed and was verified with a test data set. The results obtained were compared with the actual results to calculate the accuracy and the algorithm that results in maximum accuracy is identified. We have selected two machine learning algorithms for comparing the prediction accuracy.\n"
   ]
  },
  {
   "cell_type": "code",
   "execution_count": 1,
   "id": "0dfd71a2",
   "metadata": {
    "execution": {
     "iopub.execute_input": "2022-10-24T04:23:54.652356Z",
     "iopub.status.busy": "2022-10-24T04:23:54.651344Z",
     "iopub.status.idle": "2022-10-24T04:23:56.096433Z",
     "shell.execute_reply": "2022-10-24T04:23:56.095059Z"
    },
    "papermill": {
     "duration": 1.458726,
     "end_time": "2022-10-24T04:23:56.099676",
     "exception": false,
     "start_time": "2022-10-24T04:23:54.640950",
     "status": "completed"
    },
    "tags": []
   },
   "outputs": [],
   "source": [
    "import math\n",
    "import collections\n",
    "import pandas as pd\n",
    "import numpy as np\n",
    "from scipy import stats\n",
    "from sklearn.preprocessing import MinMaxScaler\n",
    "\n",
    "# Visualization Libraries\n",
    "import seaborn as sns\n",
    "import matplotlib.pyplot as plt\n",
    "\n",
    "# Tuning & Splitting Libraries\n",
    "from sklearn.model_selection import GridSearchCV\n",
    "from sklearn.model_selection import cross_val_score\n",
    "from sklearn.model_selection import train_test_split\n",
    "\n",
    "# Loading Classifiers\n",
    "from sklearn.linear_model import LogisticRegression\n",
    "from sklearn.svm import SVC\n",
    "from sklearn.neighbors import KNeighborsClassifier\n",
    "from sklearn.tree import DecisionTreeClassifier\n",
    "from sklearn.ensemble import RandomForestClassifier\n",
    "\n",
    "# Model Evaluation Liabraries\n",
    "from sklearn.metrics import ConfusionMatrixDisplay\n",
    "from sklearn.metrics import confusion_matrix, accuracy_score, r2_score, roc_auc_score, precision_score, recall_score, f1_score\n",
    "\n",
    "sns.set_style('darkgrid')"
   ]
  },
  {
   "cell_type": "markdown",
   "id": "5c3b76e1",
   "metadata": {
    "papermill": {
     "duration": 0.008702,
     "end_time": "2022-10-24T04:23:56.117778",
     "exception": false,
     "start_time": "2022-10-24T04:23:56.109076",
     "status": "completed"
    },
    "tags": []
   },
   "source": [
    "# Data\n",
    "Our data includes data of 100 engines, each doing their respective number of cycles as per their functional lifecycle. During each cycle the sensors installed collects the data in each respective cycle. Based on this collected data we need to build a model which would predict the remaining useful life(RUL, time before which engine goes for maintenance to avoid unexpected breakdown) of a already/newly installed engine based on its current cycle data"
   ]
  },
  {
   "cell_type": "code",
   "execution_count": 3,
   "id": "fdc2aa00",
   "metadata": {
    "execution": {
     "iopub.execute_input": "2022-10-24T04:23:56.139078Z",
     "iopub.status.busy": "2022-10-24T04:23:56.138353Z",
     "iopub.status.idle": "2022-10-24T04:23:56.304199Z",
     "shell.execute_reply": "2022-10-24T04:23:56.303126Z"
    },
    "papermill": {
     "duration": 0.179257,
     "end_time": "2022-10-24T04:23:56.306972",
     "exception": false,
     "start_time": "2022-10-24T04:23:56.127715",
     "status": "completed"
    },
    "tags": []
   },
   "outputs": [],
   "source": [
    "# Reading the data\n",
    "\n",
    "jet_data = pd.read_csv('C:/Users/prathish/Downloads/CMaps/train_FD001.txt', sep=\" \", header=None)\n",
    "jet_data.columns = [\"id\",\"cycle\",\"op1\",\"op2\",\"op3\",\"sensor1\",\"sensor2\",\"sensor3\",\"sensor4\",\"sensor5\"\n",
    "                    ,\"sensor6\",\"sensor7\",\"sensor8\",\"sensor9\",\"sensor10\",\"sensor11\",\"sensor12\",\"sensor13\"\n",
    "                    ,\"sensor14\",\"sensor15\",\"sensor16\",\"sensor17\",\"sensor18\",\"sensor19\"\n",
    "                    ,\"sensor20\",\"sensor21\",\"sensor22\",\"sensor23\"]\n",
    "\n",
    "jet_data.drop(['sensor22', 'sensor23'], axis=1, inplace=True)\n",
    "\n",
    "jet_id_and_rul = jet_data.groupby(['id'])[[\"id\" ,\"cycle\"]].max()\n",
    "jet_id_and_rul.set_index('id', inplace=True)"
   ]
  },
  {
   "cell_type": "code",
   "execution_count": 4,
   "id": "e47195e0",
   "metadata": {
    "execution": {
     "iopub.execute_input": "2022-10-24T04:23:56.326406Z",
     "iopub.status.busy": "2022-10-24T04:23:56.326005Z",
     "iopub.status.idle": "2022-10-24T04:23:56.361485Z",
     "shell.execute_reply": "2022-10-24T04:23:56.360213Z"
    },
    "papermill": {
     "duration": 0.048629,
     "end_time": "2022-10-24T04:23:56.364493",
     "exception": false,
     "start_time": "2022-10-24T04:23:56.315864",
     "status": "completed"
    },
    "tags": []
   },
   "outputs": [
    {
     "data": {
      "text/html": [
       "<div>\n",
       "<style scoped>\n",
       "    .dataframe tbody tr th:only-of-type {\n",
       "        vertical-align: middle;\n",
       "    }\n",
       "\n",
       "    .dataframe tbody tr th {\n",
       "        vertical-align: top;\n",
       "    }\n",
       "\n",
       "    .dataframe thead th {\n",
       "        text-align: right;\n",
       "    }\n",
       "</style>\n",
       "<table border=\"1\" class=\"dataframe\">\n",
       "  <thead>\n",
       "    <tr style=\"text-align: right;\">\n",
       "      <th></th>\n",
       "      <th>id</th>\n",
       "      <th>cycle</th>\n",
       "      <th>op1</th>\n",
       "      <th>op2</th>\n",
       "      <th>op3</th>\n",
       "      <th>sensor1</th>\n",
       "      <th>sensor2</th>\n",
       "      <th>sensor3</th>\n",
       "      <th>sensor4</th>\n",
       "      <th>sensor5</th>\n",
       "      <th>...</th>\n",
       "      <th>sensor12</th>\n",
       "      <th>sensor13</th>\n",
       "      <th>sensor14</th>\n",
       "      <th>sensor15</th>\n",
       "      <th>sensor16</th>\n",
       "      <th>sensor17</th>\n",
       "      <th>sensor18</th>\n",
       "      <th>sensor19</th>\n",
       "      <th>sensor20</th>\n",
       "      <th>sensor21</th>\n",
       "    </tr>\n",
       "  </thead>\n",
       "  <tbody>\n",
       "    <tr>\n",
       "      <th>0</th>\n",
       "      <td>1</td>\n",
       "      <td>1</td>\n",
       "      <td>-0.0007</td>\n",
       "      <td>-0.0004</td>\n",
       "      <td>100.0</td>\n",
       "      <td>518.67</td>\n",
       "      <td>641.82</td>\n",
       "      <td>1589.70</td>\n",
       "      <td>1400.60</td>\n",
       "      <td>14.62</td>\n",
       "      <td>...</td>\n",
       "      <td>521.66</td>\n",
       "      <td>2388.02</td>\n",
       "      <td>8138.62</td>\n",
       "      <td>8.4195</td>\n",
       "      <td>0.03</td>\n",
       "      <td>392</td>\n",
       "      <td>2388</td>\n",
       "      <td>100.0</td>\n",
       "      <td>39.06</td>\n",
       "      <td>23.4190</td>\n",
       "    </tr>\n",
       "    <tr>\n",
       "      <th>1</th>\n",
       "      <td>1</td>\n",
       "      <td>2</td>\n",
       "      <td>0.0019</td>\n",
       "      <td>-0.0003</td>\n",
       "      <td>100.0</td>\n",
       "      <td>518.67</td>\n",
       "      <td>642.15</td>\n",
       "      <td>1591.82</td>\n",
       "      <td>1403.14</td>\n",
       "      <td>14.62</td>\n",
       "      <td>...</td>\n",
       "      <td>522.28</td>\n",
       "      <td>2388.07</td>\n",
       "      <td>8131.49</td>\n",
       "      <td>8.4318</td>\n",
       "      <td>0.03</td>\n",
       "      <td>392</td>\n",
       "      <td>2388</td>\n",
       "      <td>100.0</td>\n",
       "      <td>39.00</td>\n",
       "      <td>23.4236</td>\n",
       "    </tr>\n",
       "    <tr>\n",
       "      <th>2</th>\n",
       "      <td>1</td>\n",
       "      <td>3</td>\n",
       "      <td>-0.0043</td>\n",
       "      <td>0.0003</td>\n",
       "      <td>100.0</td>\n",
       "      <td>518.67</td>\n",
       "      <td>642.35</td>\n",
       "      <td>1587.99</td>\n",
       "      <td>1404.20</td>\n",
       "      <td>14.62</td>\n",
       "      <td>...</td>\n",
       "      <td>522.42</td>\n",
       "      <td>2388.03</td>\n",
       "      <td>8133.23</td>\n",
       "      <td>8.4178</td>\n",
       "      <td>0.03</td>\n",
       "      <td>390</td>\n",
       "      <td>2388</td>\n",
       "      <td>100.0</td>\n",
       "      <td>38.95</td>\n",
       "      <td>23.3442</td>\n",
       "    </tr>\n",
       "    <tr>\n",
       "      <th>3</th>\n",
       "      <td>1</td>\n",
       "      <td>4</td>\n",
       "      <td>0.0007</td>\n",
       "      <td>0.0000</td>\n",
       "      <td>100.0</td>\n",
       "      <td>518.67</td>\n",
       "      <td>642.35</td>\n",
       "      <td>1582.79</td>\n",
       "      <td>1401.87</td>\n",
       "      <td>14.62</td>\n",
       "      <td>...</td>\n",
       "      <td>522.86</td>\n",
       "      <td>2388.08</td>\n",
       "      <td>8133.83</td>\n",
       "      <td>8.3682</td>\n",
       "      <td>0.03</td>\n",
       "      <td>392</td>\n",
       "      <td>2388</td>\n",
       "      <td>100.0</td>\n",
       "      <td>38.88</td>\n",
       "      <td>23.3739</td>\n",
       "    </tr>\n",
       "    <tr>\n",
       "      <th>4</th>\n",
       "      <td>1</td>\n",
       "      <td>5</td>\n",
       "      <td>-0.0019</td>\n",
       "      <td>-0.0002</td>\n",
       "      <td>100.0</td>\n",
       "      <td>518.67</td>\n",
       "      <td>642.37</td>\n",
       "      <td>1582.85</td>\n",
       "      <td>1406.22</td>\n",
       "      <td>14.62</td>\n",
       "      <td>...</td>\n",
       "      <td>522.19</td>\n",
       "      <td>2388.04</td>\n",
       "      <td>8133.80</td>\n",
       "      <td>8.4294</td>\n",
       "      <td>0.03</td>\n",
       "      <td>393</td>\n",
       "      <td>2388</td>\n",
       "      <td>100.0</td>\n",
       "      <td>38.90</td>\n",
       "      <td>23.4044</td>\n",
       "    </tr>\n",
       "  </tbody>\n",
       "</table>\n",
       "<p>5 rows × 26 columns</p>\n",
       "</div>"
      ],
      "text/plain": [
       "   id  cycle     op1     op2    op3  sensor1  sensor2  sensor3  sensor4  \\\n",
       "0   1      1 -0.0007 -0.0004  100.0   518.67   641.82  1589.70  1400.60   \n",
       "1   1      2  0.0019 -0.0003  100.0   518.67   642.15  1591.82  1403.14   \n",
       "2   1      3 -0.0043  0.0003  100.0   518.67   642.35  1587.99  1404.20   \n",
       "3   1      4  0.0007  0.0000  100.0   518.67   642.35  1582.79  1401.87   \n",
       "4   1      5 -0.0019 -0.0002  100.0   518.67   642.37  1582.85  1406.22   \n",
       "\n",
       "   sensor5  ...  sensor12  sensor13  sensor14  sensor15  sensor16  sensor17  \\\n",
       "0    14.62  ...    521.66   2388.02   8138.62    8.4195      0.03       392   \n",
       "1    14.62  ...    522.28   2388.07   8131.49    8.4318      0.03       392   \n",
       "2    14.62  ...    522.42   2388.03   8133.23    8.4178      0.03       390   \n",
       "3    14.62  ...    522.86   2388.08   8133.83    8.3682      0.03       392   \n",
       "4    14.62  ...    522.19   2388.04   8133.80    8.4294      0.03       393   \n",
       "\n",
       "   sensor18  sensor19  sensor20  sensor21  \n",
       "0      2388     100.0     39.06   23.4190  \n",
       "1      2388     100.0     39.00   23.4236  \n",
       "2      2388     100.0     38.95   23.3442  \n",
       "3      2388     100.0     38.88   23.3739  \n",
       "4      2388     100.0     38.90   23.4044  \n",
       "\n",
       "[5 rows x 26 columns]"
      ]
     },
     "execution_count": 4,
     "metadata": {},
     "output_type": "execute_result"
    }
   ],
   "source": [
    "jet_data.head()"
   ]
  },
  {
   "cell_type": "markdown",
   "id": "2a94b631",
   "metadata": {
    "execution": {
     "iopub.execute_input": "2022-09-23T16:08:47.421976Z",
     "iopub.status.busy": "2022-09-23T16:08:47.421495Z",
     "iopub.status.idle": "2022-09-23T16:08:47.453445Z",
     "shell.execute_reply": "2022-09-23T16:08:47.452208Z",
     "shell.execute_reply.started": "2022-09-23T16:08:47.421883Z"
    },
    "papermill": {
     "duration": 0.008315,
     "end_time": "2022-10-24T04:23:56.381673",
     "exception": false,
     "start_time": "2022-10-24T04:23:56.373358",
     "status": "completed"
    },
    "tags": []
   },
   "source": [
    "# Data Manipulation\n",
    "The test data does not have RUL column so for model validation purposes we will add the column externally in the dataframe"
   ]
  },
  {
   "cell_type": "code",
   "execution_count": 5,
   "id": "392d7d40",
   "metadata": {
    "execution": {
     "iopub.execute_input": "2022-10-24T04:23:56.401575Z",
     "iopub.status.busy": "2022-10-24T04:23:56.401144Z",
     "iopub.status.idle": "2022-10-24T04:23:56.431205Z",
     "shell.execute_reply": "2022-10-24T04:23:56.430320Z"
    },
    "papermill": {
     "duration": 0.043155,
     "end_time": "2022-10-24T04:23:56.433754",
     "exception": false,
     "start_time": "2022-10-24T04:23:56.390599",
     "status": "completed"
    },
    "tags": []
   },
   "outputs": [],
   "source": [
    "def RUL_calculator(df, df_max_cycles):\n",
    "    max_cycle = df_max_cycles[\"cycle\"]\n",
    "    result_frame = df.merge(max_cycle.to_frame(name='max_cycle'), left_on='id', right_index=True)\n",
    "    result_frame[\"RUL\"] = result_frame[\"max_cycle\"] - result_frame[\"cycle\"] \n",
    "    result_frame.drop(['max_cycle'], axis=1, inplace=True)\n",
    "    return result_frame\n",
    "\n",
    "jet_data = RUL_calculator(jet_data, jet_id_and_rul)"
   ]
  },
  {
   "cell_type": "code",
   "execution_count": 6,
   "id": "fa08808f",
   "metadata": {
    "execution": {
     "iopub.execute_input": "2022-10-24T04:23:56.454760Z",
     "iopub.status.busy": "2022-10-24T04:23:56.454084Z",
     "iopub.status.idle": "2022-10-24T04:23:56.561810Z",
     "shell.execute_reply": "2022-10-24T04:23:56.560610Z"
    },
    "papermill": {
     "duration": 0.120688,
     "end_time": "2022-10-24T04:23:56.564490",
     "exception": false,
     "start_time": "2022-10-24T04:23:56.443802",
     "status": "completed"
    },
    "tags": []
   },
   "outputs": [
    {
     "data": {
      "text/html": [
       "<div>\n",
       "<style scoped>\n",
       "    .dataframe tbody tr th:only-of-type {\n",
       "        vertical-align: middle;\n",
       "    }\n",
       "\n",
       "    .dataframe tbody tr th {\n",
       "        vertical-align: top;\n",
       "    }\n",
       "\n",
       "    .dataframe thead th {\n",
       "        text-align: right;\n",
       "    }\n",
       "</style>\n",
       "<table border=\"1\" class=\"dataframe\">\n",
       "  <thead>\n",
       "    <tr style=\"text-align: right;\">\n",
       "      <th></th>\n",
       "      <th>id</th>\n",
       "      <th>cycle</th>\n",
       "      <th>op1</th>\n",
       "      <th>op2</th>\n",
       "      <th>op3</th>\n",
       "      <th>sensor1</th>\n",
       "      <th>sensor2</th>\n",
       "      <th>sensor3</th>\n",
       "      <th>sensor4</th>\n",
       "      <th>sensor5</th>\n",
       "      <th>...</th>\n",
       "      <th>sensor13</th>\n",
       "      <th>sensor14</th>\n",
       "      <th>sensor15</th>\n",
       "      <th>sensor16</th>\n",
       "      <th>sensor17</th>\n",
       "      <th>sensor18</th>\n",
       "      <th>sensor19</th>\n",
       "      <th>sensor20</th>\n",
       "      <th>sensor21</th>\n",
       "      <th>RUL</th>\n",
       "    </tr>\n",
       "  </thead>\n",
       "  <tbody>\n",
       "    <tr>\n",
       "      <th>count</th>\n",
       "      <td>20631.000000</td>\n",
       "      <td>20631.000000</td>\n",
       "      <td>20631.000000</td>\n",
       "      <td>20631.000000</td>\n",
       "      <td>20631.0</td>\n",
       "      <td>20631.00</td>\n",
       "      <td>20631.000000</td>\n",
       "      <td>20631.000000</td>\n",
       "      <td>20631.000000</td>\n",
       "      <td>2.063100e+04</td>\n",
       "      <td>...</td>\n",
       "      <td>20631.000000</td>\n",
       "      <td>20631.000000</td>\n",
       "      <td>20631.000000</td>\n",
       "      <td>2.063100e+04</td>\n",
       "      <td>20631.000000</td>\n",
       "      <td>20631.0</td>\n",
       "      <td>20631.0</td>\n",
       "      <td>20631.000000</td>\n",
       "      <td>20631.000000</td>\n",
       "      <td>20631.000000</td>\n",
       "    </tr>\n",
       "    <tr>\n",
       "      <th>mean</th>\n",
       "      <td>51.506568</td>\n",
       "      <td>108.807862</td>\n",
       "      <td>-0.000009</td>\n",
       "      <td>0.000002</td>\n",
       "      <td>100.0</td>\n",
       "      <td>518.67</td>\n",
       "      <td>642.680934</td>\n",
       "      <td>1590.523119</td>\n",
       "      <td>1408.933782</td>\n",
       "      <td>1.462000e+01</td>\n",
       "      <td>...</td>\n",
       "      <td>2388.096152</td>\n",
       "      <td>8143.752722</td>\n",
       "      <td>8.442146</td>\n",
       "      <td>3.000000e-02</td>\n",
       "      <td>393.210654</td>\n",
       "      <td>2388.0</td>\n",
       "      <td>100.0</td>\n",
       "      <td>38.816271</td>\n",
       "      <td>23.289705</td>\n",
       "      <td>107.807862</td>\n",
       "    </tr>\n",
       "    <tr>\n",
       "      <th>std</th>\n",
       "      <td>29.227633</td>\n",
       "      <td>68.880990</td>\n",
       "      <td>0.002187</td>\n",
       "      <td>0.000293</td>\n",
       "      <td>0.0</td>\n",
       "      <td>0.00</td>\n",
       "      <td>0.500053</td>\n",
       "      <td>6.131150</td>\n",
       "      <td>9.000605</td>\n",
       "      <td>1.776400e-15</td>\n",
       "      <td>...</td>\n",
       "      <td>0.071919</td>\n",
       "      <td>19.076176</td>\n",
       "      <td>0.037505</td>\n",
       "      <td>1.387812e-17</td>\n",
       "      <td>1.548763</td>\n",
       "      <td>0.0</td>\n",
       "      <td>0.0</td>\n",
       "      <td>0.180746</td>\n",
       "      <td>0.108251</td>\n",
       "      <td>68.880990</td>\n",
       "    </tr>\n",
       "    <tr>\n",
       "      <th>min</th>\n",
       "      <td>1.000000</td>\n",
       "      <td>1.000000</td>\n",
       "      <td>-0.008700</td>\n",
       "      <td>-0.000600</td>\n",
       "      <td>100.0</td>\n",
       "      <td>518.67</td>\n",
       "      <td>641.210000</td>\n",
       "      <td>1571.040000</td>\n",
       "      <td>1382.250000</td>\n",
       "      <td>1.462000e+01</td>\n",
       "      <td>...</td>\n",
       "      <td>2387.880000</td>\n",
       "      <td>8099.940000</td>\n",
       "      <td>8.324900</td>\n",
       "      <td>3.000000e-02</td>\n",
       "      <td>388.000000</td>\n",
       "      <td>2388.0</td>\n",
       "      <td>100.0</td>\n",
       "      <td>38.140000</td>\n",
       "      <td>22.894200</td>\n",
       "      <td>0.000000</td>\n",
       "    </tr>\n",
       "    <tr>\n",
       "      <th>25%</th>\n",
       "      <td>26.000000</td>\n",
       "      <td>52.000000</td>\n",
       "      <td>-0.001500</td>\n",
       "      <td>-0.000200</td>\n",
       "      <td>100.0</td>\n",
       "      <td>518.67</td>\n",
       "      <td>642.325000</td>\n",
       "      <td>1586.260000</td>\n",
       "      <td>1402.360000</td>\n",
       "      <td>1.462000e+01</td>\n",
       "      <td>...</td>\n",
       "      <td>2388.040000</td>\n",
       "      <td>8133.245000</td>\n",
       "      <td>8.414900</td>\n",
       "      <td>3.000000e-02</td>\n",
       "      <td>392.000000</td>\n",
       "      <td>2388.0</td>\n",
       "      <td>100.0</td>\n",
       "      <td>38.700000</td>\n",
       "      <td>23.221800</td>\n",
       "      <td>51.000000</td>\n",
       "    </tr>\n",
       "    <tr>\n",
       "      <th>50%</th>\n",
       "      <td>52.000000</td>\n",
       "      <td>104.000000</td>\n",
       "      <td>0.000000</td>\n",
       "      <td>0.000000</td>\n",
       "      <td>100.0</td>\n",
       "      <td>518.67</td>\n",
       "      <td>642.640000</td>\n",
       "      <td>1590.100000</td>\n",
       "      <td>1408.040000</td>\n",
       "      <td>1.462000e+01</td>\n",
       "      <td>...</td>\n",
       "      <td>2388.090000</td>\n",
       "      <td>8140.540000</td>\n",
       "      <td>8.438900</td>\n",
       "      <td>3.000000e-02</td>\n",
       "      <td>393.000000</td>\n",
       "      <td>2388.0</td>\n",
       "      <td>100.0</td>\n",
       "      <td>38.830000</td>\n",
       "      <td>23.297900</td>\n",
       "      <td>103.000000</td>\n",
       "    </tr>\n",
       "    <tr>\n",
       "      <th>75%</th>\n",
       "      <td>77.000000</td>\n",
       "      <td>156.000000</td>\n",
       "      <td>0.001500</td>\n",
       "      <td>0.000300</td>\n",
       "      <td>100.0</td>\n",
       "      <td>518.67</td>\n",
       "      <td>643.000000</td>\n",
       "      <td>1594.380000</td>\n",
       "      <td>1414.555000</td>\n",
       "      <td>1.462000e+01</td>\n",
       "      <td>...</td>\n",
       "      <td>2388.140000</td>\n",
       "      <td>8148.310000</td>\n",
       "      <td>8.465600</td>\n",
       "      <td>3.000000e-02</td>\n",
       "      <td>394.000000</td>\n",
       "      <td>2388.0</td>\n",
       "      <td>100.0</td>\n",
       "      <td>38.950000</td>\n",
       "      <td>23.366800</td>\n",
       "      <td>155.000000</td>\n",
       "    </tr>\n",
       "    <tr>\n",
       "      <th>max</th>\n",
       "      <td>100.000000</td>\n",
       "      <td>362.000000</td>\n",
       "      <td>0.008700</td>\n",
       "      <td>0.000600</td>\n",
       "      <td>100.0</td>\n",
       "      <td>518.67</td>\n",
       "      <td>644.530000</td>\n",
       "      <td>1616.910000</td>\n",
       "      <td>1441.490000</td>\n",
       "      <td>1.462000e+01</td>\n",
       "      <td>...</td>\n",
       "      <td>2388.560000</td>\n",
       "      <td>8293.720000</td>\n",
       "      <td>8.584800</td>\n",
       "      <td>3.000000e-02</td>\n",
       "      <td>400.000000</td>\n",
       "      <td>2388.0</td>\n",
       "      <td>100.0</td>\n",
       "      <td>39.430000</td>\n",
       "      <td>23.618400</td>\n",
       "      <td>361.000000</td>\n",
       "    </tr>\n",
       "  </tbody>\n",
       "</table>\n",
       "<p>8 rows × 27 columns</p>\n",
       "</div>"
      ],
      "text/plain": [
       "                 id         cycle           op1           op2      op3  \\\n",
       "count  20631.000000  20631.000000  20631.000000  20631.000000  20631.0   \n",
       "mean      51.506568    108.807862     -0.000009      0.000002    100.0   \n",
       "std       29.227633     68.880990      0.002187      0.000293      0.0   \n",
       "min        1.000000      1.000000     -0.008700     -0.000600    100.0   \n",
       "25%       26.000000     52.000000     -0.001500     -0.000200    100.0   \n",
       "50%       52.000000    104.000000      0.000000      0.000000    100.0   \n",
       "75%       77.000000    156.000000      0.001500      0.000300    100.0   \n",
       "max      100.000000    362.000000      0.008700      0.000600    100.0   \n",
       "\n",
       "        sensor1       sensor2       sensor3       sensor4       sensor5  ...  \\\n",
       "count  20631.00  20631.000000  20631.000000  20631.000000  2.063100e+04  ...   \n",
       "mean     518.67    642.680934   1590.523119   1408.933782  1.462000e+01  ...   \n",
       "std        0.00      0.500053      6.131150      9.000605  1.776400e-15  ...   \n",
       "min      518.67    641.210000   1571.040000   1382.250000  1.462000e+01  ...   \n",
       "25%      518.67    642.325000   1586.260000   1402.360000  1.462000e+01  ...   \n",
       "50%      518.67    642.640000   1590.100000   1408.040000  1.462000e+01  ...   \n",
       "75%      518.67    643.000000   1594.380000   1414.555000  1.462000e+01  ...   \n",
       "max      518.67    644.530000   1616.910000   1441.490000  1.462000e+01  ...   \n",
       "\n",
       "           sensor13      sensor14      sensor15      sensor16      sensor17  \\\n",
       "count  20631.000000  20631.000000  20631.000000  2.063100e+04  20631.000000   \n",
       "mean    2388.096152   8143.752722      8.442146  3.000000e-02    393.210654   \n",
       "std        0.071919     19.076176      0.037505  1.387812e-17      1.548763   \n",
       "min     2387.880000   8099.940000      8.324900  3.000000e-02    388.000000   \n",
       "25%     2388.040000   8133.245000      8.414900  3.000000e-02    392.000000   \n",
       "50%     2388.090000   8140.540000      8.438900  3.000000e-02    393.000000   \n",
       "75%     2388.140000   8148.310000      8.465600  3.000000e-02    394.000000   \n",
       "max     2388.560000   8293.720000      8.584800  3.000000e-02    400.000000   \n",
       "\n",
       "       sensor18  sensor19      sensor20      sensor21           RUL  \n",
       "count   20631.0   20631.0  20631.000000  20631.000000  20631.000000  \n",
       "mean     2388.0     100.0     38.816271     23.289705    107.807862  \n",
       "std         0.0       0.0      0.180746      0.108251     68.880990  \n",
       "min      2388.0     100.0     38.140000     22.894200      0.000000  \n",
       "25%      2388.0     100.0     38.700000     23.221800     51.000000  \n",
       "50%      2388.0     100.0     38.830000     23.297900    103.000000  \n",
       "75%      2388.0     100.0     38.950000     23.366800    155.000000  \n",
       "max      2388.0     100.0     39.430000     23.618400    361.000000  \n",
       "\n",
       "[8 rows x 27 columns]"
      ]
     },
     "execution_count": 6,
     "metadata": {},
     "output_type": "execute_result"
    }
   ],
   "source": [
    "jet_data.describe()"
   ]
  },
  {
   "cell_type": "code",
   "execution_count": 7,
   "id": "f58a3366",
   "metadata": {
    "execution": {
     "iopub.execute_input": "2022-10-24T04:23:56.586677Z",
     "iopub.status.busy": "2022-10-24T04:23:56.585580Z",
     "iopub.status.idle": "2022-10-24T04:23:56.613386Z",
     "shell.execute_reply": "2022-10-24T04:23:56.612138Z"
    },
    "papermill": {
     "duration": 0.041522,
     "end_time": "2022-10-24T04:23:56.615824",
     "exception": false,
     "start_time": "2022-10-24T04:23:56.574302",
     "status": "completed"
    },
    "tags": []
   },
   "outputs": [
    {
     "data": {
      "text/html": [
       "<div>\n",
       "<style scoped>\n",
       "    .dataframe tbody tr th:only-of-type {\n",
       "        vertical-align: middle;\n",
       "    }\n",
       "\n",
       "    .dataframe tbody tr th {\n",
       "        vertical-align: top;\n",
       "    }\n",
       "\n",
       "    .dataframe thead th {\n",
       "        text-align: right;\n",
       "    }\n",
       "</style>\n",
       "<table border=\"1\" class=\"dataframe\">\n",
       "  <thead>\n",
       "    <tr style=\"text-align: right;\">\n",
       "      <th></th>\n",
       "      <th>id</th>\n",
       "      <th>cycle</th>\n",
       "      <th>op1</th>\n",
       "      <th>op2</th>\n",
       "      <th>op3</th>\n",
       "      <th>sensor1</th>\n",
       "      <th>sensor2</th>\n",
       "      <th>sensor3</th>\n",
       "      <th>sensor4</th>\n",
       "      <th>sensor5</th>\n",
       "      <th>...</th>\n",
       "      <th>sensor13</th>\n",
       "      <th>sensor14</th>\n",
       "      <th>sensor15</th>\n",
       "      <th>sensor16</th>\n",
       "      <th>sensor17</th>\n",
       "      <th>sensor18</th>\n",
       "      <th>sensor19</th>\n",
       "      <th>sensor20</th>\n",
       "      <th>sensor21</th>\n",
       "      <th>RUL</th>\n",
       "    </tr>\n",
       "  </thead>\n",
       "  <tbody>\n",
       "    <tr>\n",
       "      <th>0</th>\n",
       "      <td>1</td>\n",
       "      <td>1</td>\n",
       "      <td>-0.0007</td>\n",
       "      <td>-0.0004</td>\n",
       "      <td>100.0</td>\n",
       "      <td>518.67</td>\n",
       "      <td>641.82</td>\n",
       "      <td>1589.70</td>\n",
       "      <td>1400.60</td>\n",
       "      <td>14.62</td>\n",
       "      <td>...</td>\n",
       "      <td>2388.02</td>\n",
       "      <td>8138.62</td>\n",
       "      <td>8.4195</td>\n",
       "      <td>0.03</td>\n",
       "      <td>392</td>\n",
       "      <td>2388</td>\n",
       "      <td>100.0</td>\n",
       "      <td>39.06</td>\n",
       "      <td>23.4190</td>\n",
       "      <td>191</td>\n",
       "    </tr>\n",
       "    <tr>\n",
       "      <th>1</th>\n",
       "      <td>1</td>\n",
       "      <td>2</td>\n",
       "      <td>0.0019</td>\n",
       "      <td>-0.0003</td>\n",
       "      <td>100.0</td>\n",
       "      <td>518.67</td>\n",
       "      <td>642.15</td>\n",
       "      <td>1591.82</td>\n",
       "      <td>1403.14</td>\n",
       "      <td>14.62</td>\n",
       "      <td>...</td>\n",
       "      <td>2388.07</td>\n",
       "      <td>8131.49</td>\n",
       "      <td>8.4318</td>\n",
       "      <td>0.03</td>\n",
       "      <td>392</td>\n",
       "      <td>2388</td>\n",
       "      <td>100.0</td>\n",
       "      <td>39.00</td>\n",
       "      <td>23.4236</td>\n",
       "      <td>190</td>\n",
       "    </tr>\n",
       "    <tr>\n",
       "      <th>2</th>\n",
       "      <td>1</td>\n",
       "      <td>3</td>\n",
       "      <td>-0.0043</td>\n",
       "      <td>0.0003</td>\n",
       "      <td>100.0</td>\n",
       "      <td>518.67</td>\n",
       "      <td>642.35</td>\n",
       "      <td>1587.99</td>\n",
       "      <td>1404.20</td>\n",
       "      <td>14.62</td>\n",
       "      <td>...</td>\n",
       "      <td>2388.03</td>\n",
       "      <td>8133.23</td>\n",
       "      <td>8.4178</td>\n",
       "      <td>0.03</td>\n",
       "      <td>390</td>\n",
       "      <td>2388</td>\n",
       "      <td>100.0</td>\n",
       "      <td>38.95</td>\n",
       "      <td>23.3442</td>\n",
       "      <td>189</td>\n",
       "    </tr>\n",
       "    <tr>\n",
       "      <th>3</th>\n",
       "      <td>1</td>\n",
       "      <td>4</td>\n",
       "      <td>0.0007</td>\n",
       "      <td>0.0000</td>\n",
       "      <td>100.0</td>\n",
       "      <td>518.67</td>\n",
       "      <td>642.35</td>\n",
       "      <td>1582.79</td>\n",
       "      <td>1401.87</td>\n",
       "      <td>14.62</td>\n",
       "      <td>...</td>\n",
       "      <td>2388.08</td>\n",
       "      <td>8133.83</td>\n",
       "      <td>8.3682</td>\n",
       "      <td>0.03</td>\n",
       "      <td>392</td>\n",
       "      <td>2388</td>\n",
       "      <td>100.0</td>\n",
       "      <td>38.88</td>\n",
       "      <td>23.3739</td>\n",
       "      <td>188</td>\n",
       "    </tr>\n",
       "    <tr>\n",
       "      <th>4</th>\n",
       "      <td>1</td>\n",
       "      <td>5</td>\n",
       "      <td>-0.0019</td>\n",
       "      <td>-0.0002</td>\n",
       "      <td>100.0</td>\n",
       "      <td>518.67</td>\n",
       "      <td>642.37</td>\n",
       "      <td>1582.85</td>\n",
       "      <td>1406.22</td>\n",
       "      <td>14.62</td>\n",
       "      <td>...</td>\n",
       "      <td>2388.04</td>\n",
       "      <td>8133.80</td>\n",
       "      <td>8.4294</td>\n",
       "      <td>0.03</td>\n",
       "      <td>393</td>\n",
       "      <td>2388</td>\n",
       "      <td>100.0</td>\n",
       "      <td>38.90</td>\n",
       "      <td>23.4044</td>\n",
       "      <td>187</td>\n",
       "    </tr>\n",
       "  </tbody>\n",
       "</table>\n",
       "<p>5 rows × 27 columns</p>\n",
       "</div>"
      ],
      "text/plain": [
       "   id  cycle     op1     op2    op3  sensor1  sensor2  sensor3  sensor4  \\\n",
       "0   1      1 -0.0007 -0.0004  100.0   518.67   641.82  1589.70  1400.60   \n",
       "1   1      2  0.0019 -0.0003  100.0   518.67   642.15  1591.82  1403.14   \n",
       "2   1      3 -0.0043  0.0003  100.0   518.67   642.35  1587.99  1404.20   \n",
       "3   1      4  0.0007  0.0000  100.0   518.67   642.35  1582.79  1401.87   \n",
       "4   1      5 -0.0019 -0.0002  100.0   518.67   642.37  1582.85  1406.22   \n",
       "\n",
       "   sensor5  ...  sensor13  sensor14  sensor15  sensor16  sensor17  sensor18  \\\n",
       "0    14.62  ...   2388.02   8138.62    8.4195      0.03       392      2388   \n",
       "1    14.62  ...   2388.07   8131.49    8.4318      0.03       392      2388   \n",
       "2    14.62  ...   2388.03   8133.23    8.4178      0.03       390      2388   \n",
       "3    14.62  ...   2388.08   8133.83    8.3682      0.03       392      2388   \n",
       "4    14.62  ...   2388.04   8133.80    8.4294      0.03       393      2388   \n",
       "\n",
       "   sensor19  sensor20  sensor21  RUL  \n",
       "0     100.0     39.06   23.4190  191  \n",
       "1     100.0     39.00   23.4236  190  \n",
       "2     100.0     38.95   23.3442  189  \n",
       "3     100.0     38.88   23.3739  188  \n",
       "4     100.0     38.90   23.4044  187  \n",
       "\n",
       "[5 rows x 27 columns]"
      ]
     },
     "execution_count": 7,
     "metadata": {},
     "output_type": "execute_result"
    }
   ],
   "source": [
    "jet_data.head()"
   ]
  },
  {
   "cell_type": "markdown",
   "id": "0a1b6928",
   "metadata": {
    "papermill": {
     "duration": 0.009606,
     "end_time": "2022-10-24T04:23:56.635486",
     "exception": false,
     "start_time": "2022-10-24T04:23:56.625880",
     "status": "completed"
    },
    "tags": []
   },
   "source": [
    "# Visualizing Data\n",
    "We will visualize the data to determine the relevance of data and figure out the model determining attributes"
   ]
  },
  {
   "cell_type": "code",
   "execution_count": 8,
   "id": "8c17d4e6",
   "metadata": {
    "execution": {
     "iopub.execute_input": "2022-10-24T04:23:56.658669Z",
     "iopub.status.busy": "2022-10-24T04:23:56.658222Z",
     "iopub.status.idle": "2022-10-24T04:23:58.162045Z",
     "shell.execute_reply": "2022-10-24T04:23:58.160725Z"
    },
    "papermill": {
     "duration": 1.518847,
     "end_time": "2022-10-24T04:23:58.165135",
     "exception": false,
     "start_time": "2022-10-24T04:23:56.646288",
     "status": "completed"
    },
    "tags": []
   },
   "outputs": [
    {
     "data": {
      "image/png": "[encoded data removed]",
      "text/plain": [
       "<Figure size 720x1080 with 1 Axes>"
      ]
     },
     "metadata": {},
     "output_type": "display_data"
    }
   ],
   "source": [
    "jet_id_and_rul = jet_data.groupby(['id'])[[\"id\" ,\"cycle\"]].max()\n",
    "\n",
    "f, ax = plt.subplots(figsize=(10, 15))\n",
    "sns.set_color_codes(\"pastel\")\n",
    "sns.barplot(x=\"cycle\", y=\"id\", data=jet_id_and_rul, label=\"Total Cycles\", color=\"blue\", orient = 'h', dodge=False)\n",
    "ax.legend(ncol=2, loc=\"lower right\", frameon=True)\n",
    "ax.set(ylim=(0, 100), ylabel=\"\",xlabel=\"Automobile collisions per billion miles\")\n",
    "sns.despine(left=True, bottom=True)\n",
    "ax.tick_params(labelsize=11)\n",
    "ax.tick_params(length=0, axis='x')\n",
    "ax.set_ylabel(\"Engine Number\", fontsize=11)\n",
    "ax.set_xlabel(\"Number of Cycles\", fontsize=11)\n",
    "plt.tight_layout()\n",
    "plt.show()"
   ]
  },
  {
   "cell_type": "code",
   "execution_count": 9,
   "id": "adc8ec12",
   "metadata": {
    "execution": {
     "iopub.execute_input": "2022-10-24T04:23:58.189571Z",
     "iopub.status.busy": "2022-10-24T04:23:58.188383Z",
     "iopub.status.idle": "2022-10-24T04:23:58.523813Z",
     "shell.execute_reply": "2022-10-24T04:23:58.522585Z"
    },
    "papermill": {
     "duration": 0.350038,
     "end_time": "2022-10-24T04:23:58.526409",
     "exception": false,
     "start_time": "2022-10-24T04:23:58.176371",
     "status": "completed"
    },
    "tags": []
   },
   "outputs": [
    {
     "name": "stdout",
     "output_type": "stream",
     "text": [
      "Mean number of cycles after which jet engine fails is 206\n"
     ]
    },
    {
     "data": {
      "image/png": "[encoded data removed]",
      "text/plain": [
       "<Figure size 864x432 with 1 Axes>"
      ]
     },
     "metadata": {},
     "output_type": "display_data"
    }
   ],
   "source": [
    "plt.subplots(figsize=(12, 6))\n",
    "sns.histplot(jet_id_and_rul[\"cycle\"], kde = True, color='blue');\n",
    "print(\"Mean number of cycles after which jet engine fails is \"+ str(math.floor(jet_id_and_rul[\"cycle\"].mean())))"
   ]
  },
  {
   "cell_type": "markdown",
   "id": "2f28b2a7",
   "metadata": {
    "papermill": {
     "duration": 0.012167,
     "end_time": "2022-10-24T04:24:06.850252",
     "exception": false,
     "start_time": "2022-10-24T04:24:06.838085",
     "status": "completed"
    },
    "tags": []
   },
   "source": [
    "As we could see there are many sensor data which aren't following the normal distribution, we will tend to ignore those sensors for our model training. We would try to reduce the curse of dimensionality by doing so.\n",
    "\n",
    "# Correlation Matrix\n",
    "To see wheather the selected attributes are not related to each other. This way we will be able to reduce some more attributes, making our model free from overfitting."
   ]
  },
  {
   "cell_type": "code",
   "execution_count": 10,
   "id": "09f7da9f",
   "metadata": {
    "execution": {
     "iopub.execute_input": "2022-10-24T04:24:06.876928Z",
     "iopub.status.busy": "2022-10-24T04:24:06.876500Z",
     "iopub.status.idle": "2022-10-24T04:24:07.756952Z",
     "shell.execute_reply": "2022-10-24T04:24:07.755735Z"
    },
    "papermill": {
     "duration": 0.896613,
     "end_time": "2022-10-24T04:24:07.759561",
     "exception": false,
     "start_time": "2022-10-24T04:24:06.862948",
     "status": "completed"
    },
    "tags": []
   },
   "outputs": [
    {
     "data": {
      "image/png": "[encoded data removed]",
      "text/plain": [
       "<Figure size 936x576 with 2 Axes>"
      ]
     },
     "metadata": {},
     "output_type": "display_data"
    }
   ],
   "source": [
    "plt.figure(figsize=(13,8))\n",
    "cmap = sns.diverging_palette(500, 10, as_cmap=True)\n",
    "sns.heatmap(jet_data.corr(), cmap =cmap, center=0, annot=False, square=True);"
   ]
  },
  {
   "cell_type": "markdown",
   "id": "c24519c7",
   "metadata": {
    "papermill": {
     "duration": 0.012683,
     "end_time": "2022-10-24T04:24:07.785492",
     "exception": false,
     "start_time": "2022-10-24T04:24:07.772809",
     "status": "completed"
    },
    "tags": []
   },
   "source": [
    "# Deletion of non contributing parameters into the analysis\n",
    "Using the above correlation heatmap, We can safely ignore the parameters with lesser correlation with RUL. we can infer that the following parameters are not related to the RUL.\n",
    "\n",
    "id, op1, op2, op3\n",
    "sensor1, sensor5, sensor6, sensor10\n",
    "sensor16, sensor18, sensor19"
   ]
  },
  {
   "cell_type": "code",
   "execution_count": 11,
   "id": "9b117fbf",
   "metadata": {
    "execution": {
     "iopub.execute_input": "2022-10-24T04:24:07.813899Z",
     "iopub.status.busy": "2022-10-24T04:24:07.813396Z",
     "iopub.status.idle": "2022-10-24T04:24:07.821066Z",
     "shell.execute_reply": "2022-10-24T04:24:07.819911Z"
    },
    "papermill": {
     "duration": 0.024542,
     "end_time": "2022-10-24T04:24:07.823238",
     "exception": false,
     "start_time": "2022-10-24T04:24:07.798696",
     "status": "completed"
    },
    "tags": []
   },
   "outputs": [],
   "source": [
    "jet_relevant_data = jet_data.drop([\"cycle\", \"op1\", \"op2\", \"op3\", \"sensor1\", \"sensor5\", \"sensor6\", \"sensor10\", \"sensor16\", \n",
    "                                  \"sensor18\", \"sensor19\", \"sensor14\", \"sensor13\", \"sensor12\", \"sensor11\"], axis=1)"
   ]
  },
  {
   "cell_type": "code",
   "execution_count": 12,
   "id": "b471556f",
   "metadata": {
    "execution": {
     "iopub.execute_input": "2022-10-24T04:24:07.853816Z",
     "iopub.status.busy": "2022-10-24T04:24:07.853323Z",
     "iopub.status.idle": "2022-10-24T04:24:08.967502Z",
     "shell.execute_reply": "2022-10-24T04:24:08.966370Z"
    },
    "papermill": {
     "duration": 1.132262,
     "end_time": "2022-10-24T04:24:08.970797",
     "exception": false,
     "start_time": "2022-10-24T04:24:07.838535",
     "status": "completed"
    },
    "tags": []
   },
   "outputs": [
    {
     "data": {
      "image/png": "[encoded data removed]",
      "text/plain": [
       "<Figure size 1080x864 with 2 Axes>"
      ]
     },
     "metadata": {},
     "output_type": "display_data"
    }
   ],
   "source": [
    "plt.figure(figsize=(15, 12))\n",
    "cmap = sns.diverging_palette(500, 10, as_cmap=True)\n",
    "sns.heatmap(jet_relevant_data.corr(), cmap =cmap, center=0, annot=True, square=True);"
   ]
  },
  {
   "cell_type": "code",
   "execution_count": 13,
   "id": "1ca45ff4",
   "metadata": {
    "execution": {
     "iopub.execute_input": "2022-10-24T04:24:13.644312Z",
     "iopub.status.busy": "2022-10-24T04:24:13.643914Z",
     "iopub.status.idle": "2022-10-24T04:24:13.658312Z",
     "shell.execute_reply": "2022-10-24T04:24:13.657174Z"
    },
    "papermill": {
     "duration": 0.05383,
     "end_time": "2022-10-24T04:24:13.660765",
     "exception": false,
     "start_time": "2022-10-24T04:24:13.606935",
     "status": "completed"
    },
    "tags": []
   },
   "outputs": [],
   "source": [
    "scaler = MinMaxScaler()\n",
    "scaled_features = scaler.fit_transform(jet_relevant_data.drop(['id', 'RUL'], axis=1))\n",
    "scaled_features = pd.DataFrame(scaled_features, columns=jet_relevant_data.drop(['id', 'RUL'], axis=1).columns)"
   ]
  },
  {
   "cell_type": "code",
   "execution_count": 14,
   "id": "c3eb595b",
   "metadata": {
    "execution": {
     "iopub.execute_input": "2022-10-24T04:24:13.732160Z",
     "iopub.status.busy": "2022-10-24T04:24:13.731717Z",
     "iopub.status.idle": "2022-10-24T04:24:13.739310Z",
     "shell.execute_reply": "2022-10-24T04:24:13.738434Z"
    },
    "papermill": {
     "duration": 0.046836,
     "end_time": "2022-10-24T04:24:13.741733",
     "exception": false,
     "start_time": "2022-10-24T04:24:13.694897",
     "status": "completed"
    },
    "tags": []
   },
   "outputs": [],
   "source": [
    "scaled_features['id'] = jet_relevant_data['id']\n",
    "scaled_features['RUL'] = jet_relevant_data['RUL']"
   ]
  },
  {
   "cell_type": "code",
   "execution_count": 15,
   "id": "167806ec",
   "metadata": {
    "execution": {
     "iopub.execute_input": "2022-10-24T04:24:13.812648Z",
     "iopub.status.busy": "2022-10-24T04:24:13.811776Z",
     "iopub.status.idle": "2022-10-24T04:24:13.828895Z",
     "shell.execute_reply": "2022-10-24T04:24:13.827764Z"
    },
    "papermill": {
     "duration": 0.055456,
     "end_time": "2022-10-24T04:24:13.831528",
     "exception": false,
     "start_time": "2022-10-24T04:24:13.776072",
     "status": "completed"
    },
    "tags": []
   },
   "outputs": [
    {
     "data": {
      "text/html": [
       "<div>\n",
       "<style scoped>\n",
       "    .dataframe tbody tr th:only-of-type {\n",
       "        vertical-align: middle;\n",
       "    }\n",
       "\n",
       "    .dataframe tbody tr th {\n",
       "        vertical-align: top;\n",
       "    }\n",
       "\n",
       "    .dataframe thead th {\n",
       "        text-align: right;\n",
       "    }\n",
       "</style>\n",
       "<table border=\"1\" class=\"dataframe\">\n",
       "  <thead>\n",
       "    <tr style=\"text-align: right;\">\n",
       "      <th></th>\n",
       "      <th>sensor2</th>\n",
       "      <th>sensor3</th>\n",
       "      <th>sensor4</th>\n",
       "      <th>sensor7</th>\n",
       "      <th>sensor8</th>\n",
       "      <th>sensor9</th>\n",
       "      <th>sensor15</th>\n",
       "      <th>sensor17</th>\n",
       "      <th>sensor20</th>\n",
       "      <th>sensor21</th>\n",
       "      <th>id</th>\n",
       "      <th>RUL</th>\n",
       "    </tr>\n",
       "  </thead>\n",
       "  <tbody>\n",
       "    <tr>\n",
       "      <th>0</th>\n",
       "      <td>0.183735</td>\n",
       "      <td>0.406802</td>\n",
       "      <td>0.309757</td>\n",
       "      <td>0.726248</td>\n",
       "      <td>0.242424</td>\n",
       "      <td>0.109755</td>\n",
       "      <td>0.363986</td>\n",
       "      <td>0.333333</td>\n",
       "      <td>0.713178</td>\n",
       "      <td>0.724662</td>\n",
       "      <td>1</td>\n",
       "      <td>191</td>\n",
       "    </tr>\n",
       "    <tr>\n",
       "      <th>1</th>\n",
       "      <td>0.283133</td>\n",
       "      <td>0.453019</td>\n",
       "      <td>0.352633</td>\n",
       "      <td>0.628019</td>\n",
       "      <td>0.212121</td>\n",
       "      <td>0.100242</td>\n",
       "      <td>0.411312</td>\n",
       "      <td>0.333333</td>\n",
       "      <td>0.666667</td>\n",
       "      <td>0.731014</td>\n",
       "      <td>1</td>\n",
       "      <td>190</td>\n",
       "    </tr>\n",
       "    <tr>\n",
       "      <th>2</th>\n",
       "      <td>0.343373</td>\n",
       "      <td>0.369523</td>\n",
       "      <td>0.370527</td>\n",
       "      <td>0.710145</td>\n",
       "      <td>0.272727</td>\n",
       "      <td>0.140043</td>\n",
       "      <td>0.357445</td>\n",
       "      <td>0.166667</td>\n",
       "      <td>0.627907</td>\n",
       "      <td>0.621375</td>\n",
       "      <td>1</td>\n",
       "      <td>189</td>\n",
       "    </tr>\n",
       "    <tr>\n",
       "      <th>3</th>\n",
       "      <td>0.343373</td>\n",
       "      <td>0.256159</td>\n",
       "      <td>0.331195</td>\n",
       "      <td>0.740741</td>\n",
       "      <td>0.318182</td>\n",
       "      <td>0.124518</td>\n",
       "      <td>0.166603</td>\n",
       "      <td>0.333333</td>\n",
       "      <td>0.573643</td>\n",
       "      <td>0.662386</td>\n",
       "      <td>1</td>\n",
       "      <td>188</td>\n",
       "    </tr>\n",
       "    <tr>\n",
       "      <th>4</th>\n",
       "      <td>0.349398</td>\n",
       "      <td>0.257467</td>\n",
       "      <td>0.404625</td>\n",
       "      <td>0.668277</td>\n",
       "      <td>0.242424</td>\n",
       "      <td>0.149960</td>\n",
       "      <td>0.402078</td>\n",
       "      <td>0.416667</td>\n",
       "      <td>0.589147</td>\n",
       "      <td>0.704502</td>\n",
       "      <td>1</td>\n",
       "      <td>187</td>\n",
       "    </tr>\n",
       "  </tbody>\n",
       "</table>\n",
       "</div>"
      ],
      "text/plain": [
       "    sensor2   sensor3   sensor4   sensor7   sensor8   sensor9  sensor15  \\\n",
       "0  0.183735  0.406802  0.309757  0.726248  0.242424  0.109755  0.363986   \n",
       "1  0.283133  0.453019  0.352633  0.628019  0.212121  0.100242  0.411312   \n",
       "2  0.343373  0.369523  0.370527  0.710145  0.272727  0.140043  0.357445   \n",
       "3  0.343373  0.256159  0.331195  0.740741  0.318182  0.124518  0.166603   \n",
       "4  0.349398  0.257467  0.404625  0.668277  0.242424  0.149960  0.402078   \n",
       "\n",
       "   sensor17  sensor20  sensor21  id  RUL  \n",
       "0  0.333333  0.713178  0.724662   1  191  \n",
       "1  0.333333  0.666667  0.731014   1  190  \n",
       "2  0.166667  0.627907  0.621375   1  189  \n",
       "3  0.333333  0.573643  0.662386   1  188  \n",
       "4  0.416667  0.589147  0.704502   1  187  "
      ]
     },
     "execution_count": 15,
     "metadata": {},
     "output_type": "execute_result"
    }
   ],
   "source": [
    "scaled_features.head()"
   ]
  },
  {
   "cell_type": "code",
   "execution_count": 16,
   "id": "63d84d0c",
   "metadata": {
    "execution": {
     "iopub.execute_input": "2022-10-24T04:24:13.902899Z",
     "iopub.status.busy": "2022-10-24T04:24:13.902480Z",
     "iopub.status.idle": "2022-10-24T04:24:13.908286Z",
     "shell.execute_reply": "2022-10-24T04:24:13.907289Z"
    },
    "papermill": {
     "duration": 0.044811,
     "end_time": "2022-10-24T04:24:13.910598",
     "exception": false,
     "start_time": "2022-10-24T04:24:13.865787",
     "status": "completed"
    },
    "tags": []
   },
   "outputs": [],
   "source": [
    "data = scaled_features.copy()"
   ]
  },
  {
   "cell_type": "code",
   "execution_count": 17,
   "id": "f118e64e",
   "metadata": {
    "execution": {
     "iopub.execute_input": "2022-10-24T04:24:13.982339Z",
     "iopub.status.busy": "2022-10-24T04:24:13.981483Z",
     "iopub.status.idle": "2022-10-24T04:24:13.997058Z",
     "shell.execute_reply": "2022-10-24T04:24:13.996090Z"
    },
    "papermill": {
     "duration": 0.054609,
     "end_time": "2022-10-24T04:24:13.999658",
     "exception": false,
     "start_time": "2022-10-24T04:24:13.945049",
     "status": "completed"
    },
    "tags": []
   },
   "outputs": [],
   "source": [
    "cycle=30\n",
    "data['label'] = data['RUL'].apply(lambda x: 1 if x <= cycle else 0)"
   ]
  },
  {
   "cell_type": "code",
   "execution_count": 18,
   "id": "eb04d5c3",
   "metadata": {
    "execution": {
     "iopub.execute_input": "2022-10-24T04:26:54.798829Z",
     "iopub.status.busy": "2022-10-24T04:26:54.798338Z",
     "iopub.status.idle": "2022-10-24T04:26:54.804977Z",
     "shell.execute_reply": "2022-10-24T04:26:54.804105Z"
    },
    "papermill": {
     "duration": 0.094662,
     "end_time": "2022-10-24T04:26:54.806958",
     "exception": false,
     "start_time": "2022-10-24T04:26:54.712296",
     "status": "completed"
    },
    "tags": []
   },
   "outputs": [],
   "source": [
    "y = data['label']\n",
    "X = data.drop(['RUL', 'id', 'label'], axis=1)"
   ]
  },
  {
   "cell_type": "code",
   "execution_count": 19,
   "id": "042743aa",
   "metadata": {
    "execution": {
     "iopub.execute_input": "2022-10-24T04:26:54.976697Z",
     "iopub.status.busy": "2022-10-24T04:26:54.976009Z",
     "iopub.status.idle": "2022-10-24T04:26:54.987300Z",
     "shell.execute_reply": "2022-10-24T04:26:54.985568Z"
    },
    "papermill": {
     "duration": 0.10118,
     "end_time": "2022-10-24T04:26:54.989894",
     "exception": false,
     "start_time": "2022-10-24T04:26:54.888714",
     "status": "completed"
    },
    "tags": []
   },
   "outputs": [
    {
     "name": "stdout",
     "output_type": "stream",
     "text": [
      "X_train shape :  (16504, 10)\n",
      "X_test shape :  (4127, 10)\n",
      "y_train shape :  (16504,)\n",
      "y_test shape :  (4127,)\n"
     ]
    }
   ],
   "source": [
    "X_train, X_test, y_train, y_test = train_test_split(X,y, test_size=0.2, random_state=3)\n",
    "\n",
    "print('X_train shape : ',X_train.shape)\n",
    "print('X_test shape : ',X_test.shape)\n",
    "print('y_train shape : ',y_train.shape)\n",
    "print('y_test shape : ',y_test.shape)"
   ]
  },
  {
   "cell_type": "markdown",
   "id": "9882a516",
   "metadata": {
    "papermill": {
     "duration": 0.085268,
     "end_time": "2022-10-24T04:26:55.157567",
     "exception": false,
     "start_time": "2022-10-24T04:26:55.072299",
     "status": "completed"
    },
    "tags": []
   },
   "source": [
    "# Model Building\n",
    "\n",
    "After the extensive EDA, we have some idea about the data. The data seems linearly separable "
   ]
  },
  {
   "cell_type": "code",
   "execution_count": 33,
   "id": "b3c2fcfb",
   "metadata": {},
   "outputs": [
    {
     "name": "stdout",
     "output_type": "stream",
     "text": [
      "Accuracy for Logistic Regressipn: 0.9563847831354495\n"
     ]
    }
   ],
   "source": [
    "from sklearn.metrics import accuracy_score\n",
    "model1 = LogisticRegression()\n",
    "model1.fit(X_train, y_train)\n",
    "model1_pred=model1.predict(X_test)\n",
    "acc1=accuracy_score(y_test, model1_pred)\n",
    "print(\"Accuracy for Logistic Regressipn:\",acc1)"
   ]
  },
  {
   "cell_type": "code",
   "execution_count": 34,
   "id": "0c58a78b",
   "metadata": {},
   "outputs": [
    {
     "name": "stdout",
     "output_type": "stream",
     "text": [
      "Accuracy for KNN: 0.9549309425732978\n"
     ]
    }
   ],
   "source": [
    "model2 = KNeighborsClassifier()\n",
    "model2.fit(X_train, y_train)\n",
    "model2_pred=model2.predict(X_test)\n",
    "acc2=accuracy_score(y_test, model2_pred)\n",
    "print(\"Accuracy for KNN:\",acc2)"
   ]
  },
  {
   "cell_type": "code",
   "execution_count": 35,
   "id": "2c6ad902",
   "metadata": {},
   "outputs": [
    {
     "name": "stdout",
     "output_type": "stream",
     "text": [
      "Accuracy for Decision Tree Classifier: 0.9394233099103465\n"
     ]
    }
   ],
   "source": [
    "model3 = DecisionTreeClassifier()\n",
    "model3.fit(X_train, y_train)\n",
    "model3_pred=model3.predict(X_test)\n",
    "acc3=accuracy_score(y_test, model3_pred)\n",
    "print(\"Accuracy for Decision Tree Classifier:\",acc3)"
   ]
  },
  {
   "cell_type": "code",
   "execution_count": 36,
   "id": "c89453a3",
   "metadata": {},
   "outputs": [
    {
     "name": "stdout",
     "output_type": "stream",
     "text": [
      "Accuracy for Support Vector Machine: 0.9597770777804701\n"
     ]
    }
   ],
   "source": [
    "model4 = SVC(kernel='linear')\n",
    "model4.fit(X_train, y_train)\n",
    "model4_pred=model4.predict(X_test)\n",
    "acc4=accuracy_score(y_test, model4_pred)\n",
    "print(\"Accuracy for Support Vector Machine:\",acc4)"
   ]
  },
  {
   "cell_type": "code",
   "execution_count": 37,
   "id": "f3a7b0e6",
   "metadata": {
    "execution": {
     "iopub.execute_input": "2022-10-24T04:32:32.760795Z",
     "iopub.status.busy": "2022-10-24T04:32:32.759471Z",
     "iopub.status.idle": "2022-10-24T04:32:34.788345Z",
     "shell.execute_reply": "2022-10-24T04:32:34.787165Z"
    },
    "papermill": {
     "duration": 2.121893,
     "end_time": "2022-10-24T04:32:34.791154",
     "exception": false,
     "start_time": "2022-10-24T04:32:32.669261",
     "status": "completed"
    },
    "tags": []
   },
   "outputs": [
    {
     "data": {
      "image/png": "[encoded data removed]",
      "text/plain": [
       "<Figure size 1584x864 with 8 Axes>"
      ]
     },
     "metadata": {},
     "output_type": "display_data"
    }
   ],
   "source": [
    "log_reg_cf = confusion_matrix(y_test, model1_pred)\n",
    "kneighbors_cf = confusion_matrix(y_test, model2_pred)\n",
    "svc_cf = confusion_matrix(y_test, model3_pred)\n",
    "tree_cf = confusion_matrix(y_test, model4_pred)\n",
    "\n",
    "fig, ax = plt.subplots(2, 2,figsize=(22,12))\n",
    "\n",
    "sns.heatmap(log_reg_cf, ax=ax[0][0], annot=True, cmap='rocket', fmt='g')\n",
    "ax[0, 0].set_title(\"Logistic Regression \\n Confusion Matrix\", fontsize=14)\n",
    "ax[0, 0].set_xticklabels(['', ''], fontsize=14, rotation=90)\n",
    "ax[0, 0].set_yticklabels(['', ''], fontsize=14, rotation=360)\n",
    "\n",
    "sns.heatmap(kneighbors_cf, ax=ax[0][1], annot=True, cmap='rocket', fmt='g')\n",
    "ax[0][1].set_title(\"KNearsNeighbors \\n Confusion Matrix\", fontsize=14)\n",
    "ax[0][1].set_xticklabels(['', ''], fontsize=14, rotation=90)\n",
    "ax[0][1].set_yticklabels(['', ''], fontsize=14, rotation=360)\n",
    "\n",
    "sns.heatmap(svc_cf, ax=ax[1][0], annot=True, cmap='rocket', fmt='g')\n",
    "ax[1][0].set_title(\"Suppor Vector Classifier \\n Confusion Matrix\", fontsize=14)\n",
    "ax[1][0].set_xticklabels(['', ''], fontsize=14, rotation=90)\n",
    "ax[1][0].set_yticklabels(['', ''], fontsize=14, rotation=360)\n",
    "\n",
    "sns.heatmap(tree_cf, ax=ax[1][1], annot=True, cmap='rocket', fmt='g')\n",
    "ax[1][1].set_title(\"DecisionTree Classifier \\n Confusion Matrix\", fontsize=14)\n",
    "ax[1][1].set_xticklabels(['', ''], fontsize=14, rotation=90)\n",
    "ax[1][1].set_yticklabels(['', ''], fontsize=14, rotation=360)\n",
    "\n",
    "plt.show()"
   ]
  }
 ],
 "metadata": {
  "kernelspec": {
   "display_name": "Python 3",
   "language": "python",
   "name": "python3"
  },
  "language_info": {
   "codemirror_mode": {
    "name": "ipython",
    "version": 3
   },
   "file_extension": ".py",
   "mimetype": "text/x-python",
   "name": "python",
   "nbconvert_exporter": "python",
   "pygments_lexer": "ipython3",
   "version": "3.9.6"
  },
  "papermill": {
   "default_parameters": {},
   "duration": 531.381087,
   "end_time": "2022-10-24T04:32:36.411599",
   "environment_variables": {},
   "exception": null,
   "input_path": "__notebook__.ipynb",
   "output_path": "__notebook__.ipynb",
   "parameters": {},
   "start_time": "2022-10-24T04:23:45.030512",
   "version": "2.3.4"
  }
 },
 "nbformat": 4,
 "nbformat_minor": 5
}
